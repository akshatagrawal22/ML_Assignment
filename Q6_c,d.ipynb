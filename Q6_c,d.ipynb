{
  "nbformat": 4,
  "nbformat_minor": 0,
  "metadata": {
    "colab": {
      "name": "Q6. c,d",
      "provenance": []
    },
    "kernelspec": {
      "name": "python3",
      "display_name": "Python 3"
    },
    "language_info": {
      "name": "python"
    }
  },
  "cells": [
    {
      "cell_type": "markdown",
      "metadata": {
        "id": "SfUkMvTHHAGl"
      },
      "source": [
        "#Akshat Agrawal - IIT2019214"
      ]
    },
    {
      "cell_type": "markdown",
      "metadata": {
        "id": "1qrFlAdQcMf-"
      },
      "source": [
        "# Q6.c"
      ]
    },
    {
      "cell_type": "code",
      "metadata": {
        "id": "Fb_RdCrkOHKH"
      },
      "source": [
        "import numpy as np\n",
        "import pandas as pd\n",
        "import math\n",
        "from copy import deepcopy\n",
        "import seaborn as sns\n",
        "import matplotlib.pyplot as plt\n",
        "\n",
        "input_data = pd.read_csv(\"https://raw.githubusercontent.com/akshatagrawal22/ML_Assignment/main/Housing%20Price%20data%20set.csv\")\n"
      ],
      "execution_count": 14,
      "outputs": []
    },
    {
      "cell_type": "markdown",
      "metadata": {
        "id": "SSVfOnv7Oyay"
      },
      "source": [
        "#Performing feature scanning on area:"
      ]
    },
    {
      "cell_type": "code",
      "metadata": {
        "id": "qY4PRqTeO5yq"
      },
      "source": [
        "Price_of_house = input_data['price']\n",
        "Area_of_floor = input_data['lotsize']\n",
        "Number_of_bedrooms = input_data['bedrooms']\n",
        "Number_of_bathrooms = input_data['bathrms']\n",
        "\n",
        "Mean_Area_of_floor= np.mean(Area_of_floor)\n",
        "Max_Area_of_floor= max(Area_of_floor)\n",
        "Min_Area_of_floor = min(Area_of_floor)\n",
        "Scaled_area_of_floor = []\n",
        "for i in Area_of_floor:\n",
        "\tScaled_area_of_floor.append((i - Mean_Area_of_floor) / (Max_Area_of_floor- Min_Area_of_floor))\n",
        "\n",
        "Train_features= []\n",
        "for i in range(383):\n",
        "\tTrain_features.append([1, Scaled_area_of_floor[i], Number_of_bedrooms[i], Number_of_bathrooms[i]])\n",
        "Train_price = Price_of_house[:383]\n",
        "Test_price = []\n",
        "Test_features = []\n",
        "for i in range(383, len(Price_of_house)):\n",
        "\tTest_features.append([1, Scaled_area_of_floor[i], Number_of_bedrooms[i], Number_of_bathrooms[i]])\n",
        "\tTest_price.append(Price_of_house[i])\n",
        "m = len(Train_features)"
      ],
      "execution_count": 3,
      "outputs": []
    },
    {
      "cell_type": "markdown",
      "metadata": {
        "id": "iXUSbDlkgkQa"
      },
      "source": [
        "# Function to calculate Slope to find coefficients:"
      ]
    },
    {
      "cell_type": "code",
      "metadata": {
        "id": "LHroLXfggkjQ"
      },
      "source": [
        "def Slope(coefficient, Train_features, Train_price, ind):\n",
        "\terr = 0\n",
        "\tfor i in range(len(Train_features)):\n",
        "\t\titr = 0\n",
        "\t\tfor j in range(len(coefficient)):\n",
        "\t\t\titr = itr + coefficient[j] * Train_features[i][j]\n",
        "\t\terr += (itr - Train_price[i]) * Train_features[i][ind]\n",
        "\treturn err"
      ],
      "execution_count": 4,
      "outputs": []
    },
    {
      "cell_type": "markdown",
      "metadata": {
        "id": "h-7E2V13gzeh"
      },
      "source": [
        "# Using scaled batch gradient without regularisation:\n"
      ]
    },
    {
      "cell_type": "code",
      "metadata": {
        "id": "xwo0ahOigy4W"
      },
      "source": [
        "Rate_of_learning = 0.001\n",
        "m = len(Train_features)\n",
        "\n",
        "coefficient = [0, 0, 0, 0]\n",
        "for i in range(5000):\n",
        "\tTemp_coefficient = coefficient.copy()\n",
        "\tfor j in range(len(coefficient)):\n",
        "\t\tTemp_coefficient[j] = Temp_coefficient[j] - ((Rate_of_learning / m) * (Slope(coefficient, Train_features, Train_price, j)))\n",
        "\tcoefficient = Temp_coefficient.copy()"
      ],
      "execution_count": 6,
      "outputs": []
    },
    {
      "cell_type": "markdown",
      "metadata": {
        "id": "tzw2IZkShvQA"
      },
      "source": [
        "#Finding Mean absolute percentage error:"
      ]
    },
    {
      "cell_type": "code",
      "metadata": {
        "colab": {
          "base_uri": "https://localhost:8080/"
        },
        "id": "sNFR1rPTQHan",
        "outputId": "ac9001ca-d973-435a-bd64-f1e6b00d25f5"
      },
      "source": [
        "err = 0\n",
        "for i in range(len(Test_features)):\n",
        "\tpredicted = 0\n",
        "\tfor j in range(len(coefficient)):\n",
        "\t  \tpredicted = predicted + coefficient[j] * Test_features[i][j]\n",
        "\terr += abs(predicted - Test_price[i]) / Test_price[i]\n",
        "err = (err / len(Test_features)) * 90\n",
        "print(\"Mean absolute percentage Error is : \" + str(err))\n",
        "print()"
      ],
      "execution_count": 10,
      "outputs": [
        {
          "output_type": "stream",
          "name": "stdout",
          "text": [
            "Mean absolute percentage Error is : 17.934312568107753\n",
            "\n"
          ]
        }
      ]
    },
    {
      "cell_type": "markdown",
      "metadata": {
        "id": "ZeC1AkopQcDu"
      },
      "source": [
        "#Using scaled batch gradient with regularisation:"
      ]
    },
    {
      "cell_type": "code",
      "metadata": {
        "id": "E8ldHHD-QcfQ"
      },
      "source": [
        "Rate_of_learning = 0.001\n",
        "Lambda = -49\n",
        "coefficient = [0, 0, 0, 0]\n",
        "\n",
        "for epochs in range(5000):\n",
        "\tTemp_coefficient = coefficient.copy()\n",
        "\tfor j in range(len(coefficient)):\n",
        "\t\tif (j == 0):\n",
        "\t\t\tTemp_coefficient[j] = Temp_coefficient[j] - ((Rate_of_learning / m) * (Slope(coefficient, Train_features, Train_price, j)))\t\n",
        "\t\telse:\n",
        "\t\t\tTemp_coefficient[j] = (1 - Rate_of_learning * Lambda / m) * Temp_coefficient[j] - ((Rate_of_learning / m) * (Slope(coefficient, Train_features, Train_price, j)))\n",
        "\tcoefficient = Temp_coefficient.copy()"
      ],
      "execution_count": 8,
      "outputs": []
    },
    {
      "cell_type": "markdown",
      "metadata": {
        "id": "HLkS6WDdlcZk"
      },
      "source": [
        "# Finding Mean absolute percentage Error:"
      ]
    },
    {
      "cell_type": "code",
      "metadata": {
        "colab": {
          "base_uri": "https://localhost:8080/"
        },
        "id": "qiUD2x3Yi6vf",
        "outputId": "d8d1ed1d-416c-4f63-bdae-759d34451e4c"
      },
      "source": [
        "err = 0\n",
        "for i in range(len(Test_features)):\n",
        "\tpredicted = 0\n",
        "\tfor j in range(len(coefficient)):\n",
        "\t  \tpredicted = predicted + coefficient[j] * Test_features[i][j]\n",
        "\terr += abs(predicted - Test_price[i]) / Test_price[i]\n",
        "err = (err / len(Test_features)) * 100\n",
        "print(\"Mean absolute percentage Error is : \" + str(err))\n",
        "print()\n",
        "\n",
        "def SlopeStoch(coefficient,Train_features,ActualVal,ind):\n",
        "\titr = 0\n",
        "\tfor j in range(len(coefficient)):\n",
        "\t\titr = itr + coefficient[j]*Train_features[j]\n",
        "\treturn (itr - ActualVal) * Train_features[ind]"
      ],
      "execution_count": 9,
      "outputs": [
        {
          "output_type": "stream",
          "name": "stdout",
          "text": [
            "Mean absolute percentage Error is : 19.92701396456417\n",
            "\n"
          ]
        }
      ]
    },
    {
      "cell_type": "code",
      "metadata": {
        "colab": {
          "base_uri": "https://localhost:8080/",
          "height": 278
        },
        "id": "kZMkuiD2n-kg",
        "outputId": "3083a78e-3f21-4ebd-973a-5d45222e5c71"
      },
      "source": [
        "plt.style.use('ggplot')\n",
        "_= plt.bar([\"With regularisation\",\"Without regularisation\"],height=[18.30641888247704,19.92701396456417])\n",
        "plt.show()"
      ],
      "execution_count": 28,
      "outputs": [
        {
          "output_type": "display_data",
          "data": {
            "image/png": "[encoded data removed]",
            "text/plain": [
              "<Figure size 432x288 with 1 Axes>"
            ]
          },
          "metadata": {}
        }
      ]
    },
    {
      "cell_type": "markdown",
      "metadata": {
        "id": "7SYY1x1EQsuV"
      },
      "source": [
        "#Using Scaled Stochastic gradient without regularisation:\n",
        "\n",
        "\n"
      ]
    },
    {
      "cell_type": "code",
      "metadata": {
        "colab": {
          "base_uri": "https://localhost:8080/"
        },
        "id": "AneUYL11Qs65",
        "outputId": "1155a608-7885-47e3-82df-faefa21fee50"
      },
      "source": [
        "print(\"Using Stochastic gradient without regularisation\")\n",
        "\n",
        "Rate_of_learning = 0.005\n",
        "coefficient = [0, 0, 0, 0]\n",
        "print(\"Initial coefficients: \")\n",
        "print(coefficient)\n",
        "\n",
        "for iter in range(10):\n",
        "\tfor i in range(len(Train_price)):\n",
        "\t\tTemp_coefficient = coefficient.copy()\n",
        "\t\tfor j in range(4):\n",
        "\t\t\tTemp_coefficient[j] = Temp_coefficient[j] - (Rate_of_learning * (SlopeStoch(coefficient, Train_features[i], Train_price[i], j)))\n",
        "\t\tcoefficient = Temp_coefficient.copy()\n",
        "\n",
        "print(\"Final coefficients are:\")\n",
        "print(coefficient)\n",
        "\n",
        "# Finding Mean absolute percentage Error.\n",
        "err = 0\n",
        "for i in range(len(Test_features)):\n",
        "\tpredicted = 0\n",
        "\tfor j in range(len(coefficient)):\n",
        "\t  \tpredicted = predicted + coefficient[j] * Test_features[i][j]\n",
        "\terr += abs(predicted - Test_price[i]) / Test_price[i]\n",
        "err = (err / len(Test_features)) * 100\n",
        "print(\"Mean absolute percentage Error is : \" + str(err))\n",
        "print()"
      ],
      "execution_count": null,
      "outputs": [
        {
          "output_type": "stream",
          "name": "stdout",
          "text": [
            "Using Stochastic gradient without regularisation\n",
            "Initial coefficients: \n",
            "[0, 0, 0, 0]\n",
            "Final coefficients are:\n",
            "[18648.663069990776, 15073.501985961251, 15766.862790309351, 22357.23427068568]\n",
            "Mean absolute percentage Error is : 32.87903970192347\n",
            "\n"
          ]
        }
      ]
    },
    {
      "cell_type": "markdown",
      "metadata": {
        "id": "CTEA9U-GQ7Ha"
      },
      "source": [
        "#Using Scaled Stochastic gradient with regularisation:"
      ]
    },
    {
      "cell_type": "code",
      "metadata": {
        "colab": {
          "base_uri": "https://localhost:8080/"
        },
        "id": "aRG_K03QQ7TX",
        "outputId": "cf03d045-20f7-43d0-8a79-24a60bd75676"
      },
      "source": [
        "print(\"Using Stochastic gradient with regularisation\")\n",
        "\n",
        "Rate_of_learning = 0.005\n",
        "Lambda = 142000\n",
        "coefficient = [0, 0, 0, 0]\n",
        "print(\"Initial coefficients: \")\n",
        "print(coefficient)\n",
        "\n",
        "for iter in range(10):\n",
        "\tfor i in range(len(Train_price)):\n",
        "\t\tTemp_coefficient = coefficient.copy()\n",
        "\t\tfor j in range(4):\n",
        "\t\t\tif j == 0:\n",
        "\t\t\t\tTemp_coefficient[j] = Temp_coefficient[j] - (Rate_of_learning * (SlopeStoch(coefficient, Train_features[i], Train_price[i], j)))\n",
        "\t\t\telse:\n",
        "\t\t\t\tTemp_coefficient[j] = (1 - Rate_of_learning * Lambda) * Temp_coefficient[j] - (Rate_of_learning * (SlopeStoch(coefficient, Train_features[i], Train_price[i], j)))\n",
        "\t\tcoefficient = Temp_coefficient.copy()\n",
        "\n",
        "print(\"Final coefficients are:\")\n",
        "print(coefficient)\n",
        "\n",
        "# Finding Mean absolute percentage Error.\n",
        "err = 0\n",
        "for i in range(len(Test_features)):\n",
        "\tpredicted = 0\n",
        "\tfor j in range(len(coefficient)):\n",
        "\t  \tpredicted = predicted + coefficient[j] * Test_features[i][j]\n",
        "\terr += abs(predicted - Test_price[i]) / Test_price[i]\n",
        "err = (err / len(Test_features)) * 100\n",
        "print(\"Mean absolute percentage Error is : \" + str(err))\n",
        "print()\n"
      ],
      "execution_count": null,
      "outputs": [
        {
          "output_type": "stream",
          "name": "stdout",
          "text": [
            "Using Stochastic gradient with regularisation\n",
            "Initial coefficients: \n",
            "[0, 0, 0, 0]\n",
            "Final coefficients are:\n",
            "[nan, nan, nan, nan]\n",
            "Mean absolute percentage Error is : nan\n",
            "\n"
          ]
        },
        {
          "output_type": "stream",
          "name": "stderr",
          "text": [
            "/usr/local/lib/python3.7/dist-packages/ipykernel_launcher.py:32: RuntimeWarning: overflow encountered in double_scalars\n",
            "/usr/local/lib/python3.7/dist-packages/ipykernel_launcher.py:16: RuntimeWarning: overflow encountered in double_scalars\n",
            "  app.launch_new_instance()\n",
            "/usr/local/lib/python3.7/dist-packages/ipykernel_launcher.py:16: RuntimeWarning: invalid value encountered in double_scalars\n",
            "  app.launch_new_instance()\n"
          ]
        }
      ]
    },
    {
      "cell_type": "markdown",
      "metadata": {
        "id": "rqiWQffYRV_8"
      },
      "source": [
        "#Using Scaled Minibatch gradient without regularisation for batch size = 30:"
      ]
    },
    {
      "cell_type": "code",
      "metadata": {
        "colab": {
          "base_uri": "https://localhost:8080/"
        },
        "id": "bbug_Eo_RWMj",
        "outputId": "48183539-9230-4d39-cb41-04a475a3eef5"
      },
      "source": [
        "print(\"Using Scaled Minibatch gradient without regularisation for batch size = 30\")\n",
        "\n",
        "Size_of_batch = 30;\n",
        "Rate_of_learning = 0.002\n",
        "coefficient = [0, 0, 0, 0]\n",
        "Number_of_Batches = math.ceil(len(Train_price) / Size_of_batch)\n",
        "equallyDiv = False\n",
        "if (len(Train_price) % Size_of_batch == 0):\n",
        "\tequallyDiv = True;\n",
        "\n",
        "for epoch in range(30):\n",
        "\tfor batch in range(Number_of_Batches):\n",
        "\t\tSummation = [0, 0, 0, 0]\n",
        "\t\tfor j in range(len(coefficient)):\n",
        "\t\t\tfor i in range(Size_of_batch):\n",
        "\t\t\t\tif (batch * Size_of_batch + i == len(Train_features)):\n",
        "\t\t\t\t\tbreak\n",
        "\t\t\t\tValue_predicted = 0.0\n",
        "\t\t\t\tfor wj in range(len(coefficient)):\n",
        "\t\t\t\t\tValue_predicted += coefficient[wj] * Train_features[batch * Size_of_batch + i][wj]\n",
        "\t\t\t\tValue_predicted -= Train_price[batch * Size_of_batch + i]\n",
        "\t\t\t\tValue_predicted *= Train_features[batch * Size_of_batch + i][j]\n",
        "\t\t\t\tSummation[j] += Value_predicted;\n",
        "\n",
        "\t\tif (not equallyDiv and batch == Number_of_Batches - 1):\n",
        "\t\t\tfor j in range(len(Summation)):\n",
        "\t\t\t\tcoefficient[j] -= (Summation[j] / (len(Train_price) % Size_of_batch)) * Rate_of_learning\n",
        "\t\telse:\n",
        "\t\t\tfor j in range(len(Summation)):\n",
        "\t\t\t\tcoefficient[j] -= (Summation[j] / Size_of_batch) * Rate_of_learning\n",
        "print(\"Final coefficients are:\")\n",
        "print(coefficient)\n",
        "\n",
        "# Finding Mean absolute percentage Error.\n",
        "err = 0\n",
        "for i in range(len(Test_features)):\n",
        "\tpredicted = 0\n",
        "\tfor j in range(len(coefficient)):\n",
        "\t  \tpredicted = predicted + coefficient[j] * Test_features[i][j]\n",
        "\terr += abs(predicted - Test_price[i]) / Test_price[i]\n",
        "err = (err / len(Test_features)) * 100\n",
        "print(\"Mean absolute percentage Error is : \" + str(err))\n",
        "print()"
      ],
      "execution_count": null,
      "outputs": [
        {
          "output_type": "stream",
          "name": "stdout",
          "text": [
            "Using Scaled Minibatch gradient without regularisation for batch size = 30\n",
            "Final coefficients are:\n",
            "[5834.079583903288, 1398.7151139126267, 15789.080128016818, 10184.60342876498]\n",
            "Mean absolute percentage Error is : 21.04517419184361\n",
            "\n"
          ]
        }
      ]
    },
    {
      "cell_type": "code",
      "metadata": {
        "colab": {
          "base_uri": "https://localhost:8080/",
          "height": 278
        },
        "id": "bTYugrOqrwjG",
        "outputId": "879068f3-6305-4c33-c8f1-cefe6c9a5b58"
      },
      "source": [
        "plt.style.use('ggplot')\n",
        "_= plt.bar([\"With regularisation\",\"Without regularisation\"],height=[19.72984683085249,20.34290336445297])\n",
        "plt.show()"
      ],
      "execution_count": 32,
      "outputs": [
        {
          "output_type": "display_data",
          "data": {
            "image/png": "[encoded data removed]",
            "text/plain": [
              "<Figure size 432x288 with 1 Axes>"
            ]
          },
          "metadata": {}
        }
      ]
    },
    {
      "cell_type": "markdown",
      "metadata": {
        "id": "D49LY3cuRizB"
      },
      "source": [
        "#Using Scaled Minibatch gradient with regularisation for batch size = 30:"
      ]
    },
    {
      "cell_type": "code",
      "metadata": {
        "colab": {
          "base_uri": "https://localhost:8080/"
        },
        "id": "dwyO3D_eRi8k",
        "outputId": "36465f8a-7bf1-4228-cd09-eeb8079c9814"
      },
      "source": [
        "print(\"Using Scaled Minibatch gradient with regularisation for batch size = 30\")\n",
        "\n",
        "Size_of_batch = 30;\n",
        "Rate_of_learning = 0.002\n",
        "Lambda = -372\n",
        "coefficient = [0, 0, 0, 0]\n",
        "Number_of_Batches = math.ceil(len(Train_price) / Size_of_batch)\n",
        "equallyDiv = False\n",
        "if (len(Train_price) % Size_of_batch == 0):\n",
        "\tequallyDiv = True;\n",
        "\n",
        "for epoch in range(30):\n",
        "\tfor batch in range(Number_of_Batches):\n",
        "\t\tSummation = [0, 0, 0, 0]\n",
        "\t\tfor j in range(len(coefficient)):\n",
        "\t\t\tfor i in range(Size_of_batch):\n",
        "\t\t\t\tif (batch * Size_of_batch + i == len(Train_features)):\n",
        "\t\t\t\t\tbreak\n",
        "\t\t\t\tValue_predicted = 0.0\n",
        "\t\t\t\tfor wj in range(len(coefficient)):\n",
        "\t\t\t\t\tValue_predicted += coefficient[wj] * Train_features[batch * Size_of_batch + i][wj]\n",
        "\t\t\t\tValue_predicted -= Train_price[batch * Size_of_batch + i]\n",
        "\t\t\t\tValue_predicted *= Train_features[batch * Size_of_batch + i][j]\n",
        "\t\t\t\tSummation[j] += Value_predicted;\n",
        "\n",
        "\t\tif (not equallyDiv and batch == Number_of_Batches - 1):\n",
        "\t\t\tfor j in range(len(Summation)):\n",
        "\t\t\t\tif j == 0:\n",
        "\t\t\t\t\tcoefficient[j] -= (Summation[j] / (len(Train_price) % Size_of_batch)) * Rate_of_learning\n",
        "\t\t\t\telse:\n",
        "\t\t\t\t\tcoefficient[j] = (1 - Rate_of_learning * Lambda / m) * coefficient[j] - (Summation[j] / (len(Train_price) % Size_of_batch)) * Rate_of_learning\n",
        "\t\telse:\n",
        "\t\t\tfor j in range(len(Summation)):\n",
        "\t\t\t\tif j == 0:\n",
        "\t\t\t\t\tcoefficient[j] -= (Summation[j] / Size_of_batch) * Rate_of_learning\n",
        "\t\t\t\telse:\n",
        "\t\t\t\t\tcoefficient[j] = (1 - Rate_of_learning * Lambda / m) * coefficient[j] - (Summation[j] / Size_of_batch) * Rate_of_learning\n",
        "print(\"Final coefficients are:\")\n",
        "print(coefficient)\n",
        "\n",
        "# Finding Mean absolute percentage Error.\n",
        "err = 0\n",
        "for i in range(len(Test_features)):\n",
        "\tpredicted = 0\n",
        "\tfor j in range(len(coefficient)):\n",
        "\t  \tpredicted = predicted + coefficient[j] * Test_features[i][j]\n",
        "\terr += abs(predicted - Test_price[i]) / Test_price[i]\n",
        "err = (err / len(Test_features)) * 100\n",
        "print(\"Mean absolute percentage Error is : \" + str(err))\n",
        "print()"
      ],
      "execution_count": null,
      "outputs": [
        {
          "output_type": "stream",
          "name": "stdout",
          "text": [
            "Using Scaled Minibatch gradient with regularisation for batch size = 30\n",
            "Final coefficients are:\n",
            "[2681.43806108953, 2059.662947401348, 17584.987500198524, 12538.251896070407]\n",
            "Mean absolute percentage Error is : 20.000670512331244\n",
            "\n"
          ]
        }
      ]
    },
    {
      "cell_type": "markdown",
      "metadata": {
        "id": "ZZw6_Kq2HNz6"
      },
      "source": [
        "#Q6.d"
      ]
    },
    {
      "cell_type": "code",
      "metadata": {
        "id": "KxCf26jP1HV_"
      },
      "source": [
        "import numpy as np\n",
        "import pandas as pd\n",
        "import math\n",
        "\n",
        "def calculate_error(matY, y_predicted):\n",
        "    err = 0\n",
        "    for i in range(len(matY)):\n",
        "        err += abs(matY[i] - y_predicted[i]) / matY[i]\n",
        "    err = err / len(matY)\n",
        "    return err * 100\n",
        "\n",
        "def kernel(matX, xi, Tau_parameter):\n",
        "    return np.exp(-np.sum((xi - matX) ** 2, axis = 1) / (2 * Tau_parameter * Tau_parameter))\n",
        "\n",
        "def LocallyWeightedLR(matX, xi, matY, Tau_parameter):\n",
        "\tTransposeMatrixX = np.transpose(matX)\n",
        "\tW = kernel(matX, xi, Tau_parameter)\n",
        "\tMatrixXTransposeW = TransposeMatrixX * W\n",
        "\tMatrixXTransposeWX = np.matmul(MatrixXTransposeW, matX)\n",
        "\tInverseMatrixXTransposeWX = np.linalg.pinv(MatrixXTransposeWX)\n",
        "\tInverseMatrixXTransposeWXMatrixXTransposeW = np.matmul(InverseMatrixXTransposeWX, MatrixXTransposeW)\n",
        "\tInverseMatrixXTransposeWXMatrixXTransposeWY = np.matmul(InverseMatrixXTransposeWXMatrixXTransposeW, matY)\n",
        "\tInverseMatrixXTransposeWXMatrixXTransposeWYTranspose = np.transpose(InverseMatrixXTransposeWXMatrixXTransposeWY)\n",
        "\treturn InverseMatrixXTransposeWXMatrixXTransposeWYTranspose.dot(xi)\n",
        "\n",
        "input_data = pd.read_csv(\"https://raw.githubusercontent.com/akshatagrawal22/ML_Assignment/main/Housing%20Price%20data%20set.csv\", usecols = [\"price\", \"lotsize\", \"bedrooms\", \"bathrms\"])\n",
        "Area_of_floor = input_data['lotsize']\n",
        "Number_of_bedrooms = input_data['bedrooms']\n",
        "Number_of_bathrooms = input_data['bathrms']\n",
        "matY = input_data['price']\n",
        "matY = np.array(matY)\n",
        "matY = matY.reshape(matY.shape[0], 1)"
      ],
      "execution_count": null,
      "outputs": []
    },
    {
      "cell_type": "markdown",
      "metadata": {
        "id": "gq0cHQra1HWA"
      },
      "source": [
        "#Performing feature scanning on area:"
      ]
    },
    {
      "cell_type": "code",
      "metadata": {
        "colab": {
          "base_uri": "https://localhost:8080/"
        },
        "id": "HYu6CWeq1HWB",
        "outputId": "adfceb7d-3312-4e67-fb96-8c3d4043224b"
      },
      "source": [
        "Mean_area_of_floor = np.mean(Area_of_floor)\n",
        "Max_area_of_floor = max(Area_of_floor)\n",
        "Min_area_of_floor = min(Area_of_floor)\n",
        "Scaled_area_of_floor = []\n",
        "for i in Area_of_floor:\n",
        "\tScaled_area_of_floor.append((i - Mean_area_of_floor) / (Max_area_of_floor - Min_area_of_floor))\n",
        "\n",
        "matX = []\n",
        "for i in range(len(Area_of_floor)):\n",
        "\tmatX.append([1, Scaled_area_of_floor[i], Number_of_bedrooms[i], Number_of_bathrooms[i]])\n",
        "matX = np.array(matX)\n",
        "\n",
        "Tau_parameter = 0.00005\n",
        "print(\"Using Locally Weighted Linear Regression for Tau = \" + str(Tau_parameter))\n",
        "pred = []\n",
        "for i in range(matX.shape[0]):\n",
        "\ty_predicted = LocallyWeightedLR(matX, matX[i], matY, Tau_parameter)\n",
        "\tpred.append(y_predicted)\n",
        "print(\"Mean absolute percentage err is : \" + str(calculate_error(matY,pred)))\n",
        "print()\n",
        "\n",
        "Price_of_house = input_data['price']\n",
        "\n",
        "#segmenting the features\n",
        "Train_features = []\n",
        "for i in range(383):\n",
        "\tTrain_features.append([1, Scaled_area_of_floor[i], Number_of_bedrooms[i], Number_of_bathrooms[i]])\n",
        "Train_price = Price_of_house[:383]\n",
        "Test_price = []\n",
        "FeaturesTest = []\n",
        "for i in range(383, len(Price_of_house)):\n",
        "\tFeaturesTest.append([1, Scaled_area_of_floor[i], Number_of_bedrooms[i], Number_of_bathrooms[i]])\n",
        "\tTest_price.append(Price_of_house[i])\n",
        "m = len(Train_features)\n",
        "\n",
        "# Function to calculate Slope to find coefficients\n",
        "def Slope(coefficient, Train_features, Train_price, ind):\n",
        "\terr = 0\n",
        "\tfor i in range(len(Train_features)):\n",
        "\t\titr = 0\n",
        "\t\tfor j in range(len(coefficient)):\n",
        "\t\t\titr = itr + coefficient[j] * Train_features[i][j]\n",
        "\t\terr += (itr - Train_price[i]) * Train_features[i][ind]\n",
        "\treturn err"
      ],
      "execution_count": null,
      "outputs": [
        {
          "output_type": "stream",
          "name": "stdout",
          "text": [
            "Using Locally Weighted Linear Regression for Tau = 5e-05\n",
            "Mean absolute percentage err is : [5.40732082]\n",
            "\n"
          ]
        }
      ]
    },
    {
      "cell_type": "markdown",
      "metadata": {
        "id": "KwyP3sxe1HWE"
      },
      "source": [
        "#Using scaled batch gradient with regularisation:"
      ]
    },
    {
      "cell_type": "code",
      "metadata": {
        "colab": {
          "base_uri": "https://localhost:8080/"
        },
        "id": "S5IpbTq31HWE",
        "outputId": "cb048a97-809b-429e-a01c-90615172acfe"
      },
      "source": [
        "print(\"Using scaled batch gradient with regularisation\")\n",
        "Rate_of_learning = 0.001\n",
        "Lambda = -49\n",
        "coefficient = [0, 0, 0, 0]\n",
        "print(\"Initial coefficients: \")\n",
        "print(coefficient)\n",
        "for epochs in range(5000):\n",
        "\tTemp_coefficient = coefficient.copy()\n",
        "\tfor j in range(len(coefficient)):\n",
        "\t\tif (j == 0):\n",
        "\t\t\tTemp_coefficient[j] = Temp_coefficient[j] - ((Rate_of_learning / m) * (Slope(coefficient, Train_features, Train_price, j)))\t\n",
        "\t\telse:\n",
        "\t\t\tTemp_coefficient[j] = (1 - Rate_of_learning * Lambda / m) * Temp_coefficient[j] - ((Rate_of_learning / m) * (Slope(coefficient, Train_features, Train_price, j)))\n",
        "\tcoefficient = Temp_coefficient.copy()\n",
        "print(\"Final coefficients are:\")\n",
        "print(coefficient)\n",
        "\n",
        "# Finding Mean absolute percentage err.\n",
        "err = 0\n",
        "for i in range(len(FeaturesTest)):\n",
        "\tpredicted = 0\n",
        "\tfor j in range(len(coefficient)):\n",
        "\t  \tpredicted = predicted + coefficient[j] * FeaturesTest[i][j]\n",
        "\terr += abs(predicted - Test_price[i]) / Test_price[i]\n",
        "err = (err / len(FeaturesTest)) * 100\n",
        "print(\"Mean absolute percentage err is : \" + str(err))\n",
        "print()\n",
        "\n",
        "def SlopeStoch(coefficient,Train_features,ActualVal,ind):\n",
        "\titr = 0\n",
        "\tfor j in range(len(coefficient)):\n",
        "\t\titr = itr + coefficient[j]*Train_features[j]\n",
        "\treturn (itr - ActualVal) * Train_features[ind]\n",
        "\n"
      ],
      "execution_count": null,
      "outputs": [
        {
          "output_type": "stream",
          "name": "stdout",
          "text": [
            "Using scaled batch gradient with regularisation\n",
            "Initial coefficients: \n",
            "[0, 0, 0, 0]\n",
            "Final coefficients are:\n",
            "[5037.585668619078, 11147.667574879839, 10378.580439168689, 22647.298983883848]\n",
            "Mean absolute percentage err is : 19.92701396456417\n",
            "\n"
          ]
        }
      ]
    },
    {
      "cell_type": "markdown",
      "metadata": {
        "id": "sh7n-00U1HWG"
      },
      "source": [
        "#Using Scaled Stochastic gradient with regularisation:"
      ]
    },
    {
      "cell_type": "code",
      "metadata": {
        "colab": {
          "base_uri": "https://localhost:8080/"
        },
        "id": "BCZ26eHY1HWH",
        "outputId": "60c262ee-cb43-4d09-e749-8ca7439b882f"
      },
      "source": [
        "print(\"Using Stochastic gradient with regularisation\")\n",
        "\n",
        "# I tried with different values of tau but found this to be the best.\n",
        "Rate_of_learning = 0.004\n",
        "Lambda = 142000\n",
        "coefficient = [0, 0, 0, 0]\n",
        "print(\"Initial coefficients: \")\n",
        "print(coefficient)\n",
        "\n",
        "for iter in range(10):\n",
        "\tfor i in range(len(Train_price)):\n",
        "\t\tTemp_coefficient = coefficient.copy()\n",
        "\t\tfor j in range(4):\n",
        "\t\t\tif j == 0:\n",
        "\t\t\t\tTemp_coefficient[j] = Temp_coefficient[j] - (Rate_of_learning * (SlopeStoch(coefficient, Train_features[i], Train_price[i], j)))\n",
        "\t\t\telse:\n",
        "\t\t\t\tTemp_coefficient[j] = (1 - Rate_of_learning * Lambda / m) * Temp_coefficient[j] - (Rate_of_learning * (SlopeStoch(coefficient, Train_features[i], Train_price[i], j)))\n",
        "\t\tcoefficient = Temp_coefficient.copy()\n",
        "\n",
        "print(\"Final coefficients are:\")\n",
        "print(coefficient)\n",
        "\n",
        "# Finding Mean absolute percentage err.\n",
        "err = 0\n",
        "for i in range(len(FeaturesTest)):\n",
        "\tpredicted = 0\n",
        "\tfor j in range(len(coefficient)):\n",
        "\t  \tpredicted = predicted + coefficient[j] * FeaturesTest[i][j]\n",
        "\terr += abs(predicted - Test_price[i]) / Test_price[i]\n",
        "err = (err / len(FeaturesTest)) * 100\n",
        "print(\"Mean absolute percentage err is : \" + str(err))\n",
        "print()\n"
      ],
      "execution_count": null,
      "outputs": [
        {
          "output_type": "stream",
          "name": "stdout",
          "text": [
            "Using Stochastic gradient with regularisation\n",
            "Initial coefficients: \n",
            "[0, 0, 0, 0]\n",
            "Final coefficients are:\n",
            "[68977.37183533033, 153.6672368058788, 622.1158811423422, 207.34938918615728]\n",
            "Mean absolute percentage err is : 22.392602067246287\n",
            "\n"
          ]
        }
      ]
    },
    {
      "cell_type": "markdown",
      "metadata": {
        "id": "BXYkcMnreNCg"
      },
      "source": [
        "#Using Scaled Minibatch gradient with regularisation for batch size = 30"
      ]
    },
    {
      "cell_type": "code",
      "metadata": {
        "id": "axiYSfHBeNT7",
        "colab": {
          "base_uri": "https://localhost:8080/"
        },
        "outputId": "6980a17b-5dda-4bd2-a970-846ebc965d52"
      },
      "source": [
        "print(\"Using Scaled Minibatch gradient with regularisation for batch size = 30\")\n",
        "\n",
        "Size_of_batch = 30;\n",
        "Rate_of_learning = 0.002\n",
        "Lambda = -372\n",
        "coefficient = [0, 0, 0, 0]\n",
        "NoOfBatches = math.ceil(len(Train_price) / Size_of_batch)\n",
        "equallyDiv = False\n",
        "if (len(Train_price) % Size_of_batch == 0):\n",
        "\tequallyDiv = True;\n",
        "\n",
        "for epoch in range(30):\n",
        "\tfor batch in range(NoOfBatches):\n",
        "\t\tSummation = [0, 0, 0, 0]\n",
        "\t\tfor j in range(len(coefficient)):\n",
        "\t\t\tfor i in range(Size_of_batch):\n",
        "\t\t\t\tif (batch * Size_of_batch + i == len(Train_features)):\n",
        "\t\t\t\t\tbreak\n",
        "\t\t\t\tValue_predicted = 0.0\n",
        "\t\t\t\tfor wj in range(len(coefficient)):\n",
        "\t\t\t\t\tValue_predicted += coefficient[wj] * Train_features[batch * Size_of_batch + i][wj]\n",
        "\t\t\t\tValue_predicted -= Train_price[batch * Size_of_batch + i]\n",
        "\t\t\t\tValue_predicted *= Train_features[batch * Size_of_batch + i][j]\n",
        "\t\t\t\tSummation[j] += Value_predicted;\n",
        "\n",
        "\t\tif (not equallyDiv and batch == NoOfBatches - 1):\n",
        "\t\t\tfor j in range(len(Summation)):\n",
        "\t\t\t\tif j == 0:\n",
        "\t\t\t\t\tcoefficient[j] -= (Summation[j] / (len(Train_price) % Size_of_batch)) * Rate_of_learning\n",
        "\t\t\t\telse:\n",
        "\t\t\t\t\tcoefficient[j] = (1 - Rate_of_learning * Lambda / m) * coefficient[j] - (Summation[j] / (len(Train_price) % Size_of_batch)) * Rate_of_learning\n",
        "\t\telse:\n",
        "\t\t\tfor j in range(len(Summation)):\n",
        "\t\t\t\tif j == 0:\n",
        "\t\t\t\t\tcoefficient[j] -= (Summation[j] / Size_of_batch) * Rate_of_learning\n",
        "\t\t\t\telse:\n",
        "\t\t\t\t\tcoefficient[j] = (1 - Rate_of_learning * Lambda / m) * coefficient[j] - (Summation[j] / Size_of_batch) * Rate_of_learning\n",
        "print(\"Final coefficients are:\")\n",
        "print(coefficient)\n",
        "\n",
        "# Finding Mean absolute percentage err.\n",
        "err = 0\n",
        "for i in range(len(FeaturesTest)):\n",
        "\tpredicted = 0\n",
        "\tfor j in range(len(coefficient)):\n",
        "\t  \tpredicted = predicted + coefficient[j] * FeaturesTest[i][j]\n",
        "\terr += abs(predicted - Test_price[i]) / Test_price[i]\n",
        "err = (err / len(FeaturesTest)) * 100\n",
        "print(\"Mean absolute percentage err is : \" + str(err))\n",
        "print()"
      ],
      "execution_count": null,
      "outputs": [
        {
          "output_type": "stream",
          "name": "stdout",
          "text": [
            "Using Scaled Minibatch gradient with regularisation for batch size = 30\n",
            "Final coefficients are:\n",
            "[2681.43806108953, 2059.662947401348, 17584.987500198524, 12538.251896070407]\n",
            "Mean absolute percentage err is : 20.000670512331244\n",
            "\n"
          ]
        }
      ]
    },
    {
      "cell_type": "code",
      "metadata": {
        "colab": {
          "base_uri": "https://localhost:8080/",
          "height": 278
        },
        "id": "IZpxKKuo2IAK",
        "outputId": "5d2993e1-cda7-472d-b7fb-6d135644e6e9"
      },
      "source": [
        "\n",
        "_= plt.bar([\"Scaled batch\",\"Scaled stochastic\",\"Scaled minbatch\"],height=[19.92701396456417,22.391965664113076,19.550681895981263])\n",
        "plt.show()"
      ],
      "execution_count": 33,
      "outputs": [
        {
          "output_type": "display_data",
          "data": {
            "image/png": "[encoded data removed]",
            "text/plain": [
              "<Figure size 432x288 with 1 Axes>"
            ]
          },
          "metadata": {}
        }
      ]
    }
  ]
}